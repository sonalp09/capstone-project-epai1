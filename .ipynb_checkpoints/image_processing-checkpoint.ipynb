{
 "cells": [
  {
   "cell_type": "code",
   "execution_count": 2,
   "metadata": {},
   "outputs": [],
   "source": [
    "# Read image\n",
    "\n",
    "import cv2\n",
    "import csv\n",
    "import os.path\n",
    "from os import path\n",
    "\n",
    "def create_certi(read_path, write_path, name):\n",
    "    path = write_path + 'Excellence_Award_' + name + '.jpg'\n",
    "    if not os.path.exists(path):\n",
    "        img = cv2.imread(read_path)\n",
    "        font = cv2.FONT_HERSHEY_SIMPLEX\n",
    "        font_name = cv2.FONT_HERSHEY_DUPLEX\n",
    "        font_signature = cv2.FONT_HERSHEY_SCRIPT_COMPLEX\n",
    "        (test_width, text_height), text_baseline = cv2.getTextSize('Python 101',font,1, 2)\n",
    "        cv2.putText(img,'Python 101', (520-(test_width>>1), 300), font, 1, (0, 0, 0), 2)\n",
    "        (name_width, name_height), name_baseline = cv2.getTextSize(name,font_name,1, 2)\n",
    "        cv2.putText(img,name, (520-(name_width>>1), 445), font_name, 1, (0, 0, 0), 2)\n",
    "        (date_width, date_height), date_baseline = cv2.getTextSize(name,font,1, 2)\n",
    "        cv2.putText(img, \"24th April 2021\", (220, 525), font, 0.75, (0, 0, 0), 2)\n",
    "        cv2.putText(img, \"spandey\", (700, 525), font_signature, 1, (0, 0, 0), 2)\n",
    "        cv2.imwrite(path, img)"
   ]
  }
 ],
 "metadata": {
  "kernelspec": {
   "display_name": "Python 3",
   "language": "python",
   "name": "python3"
  },
  "language_info": {
   "codemirror_mode": {
    "name": "ipython",
    "version": 3
   },
   "file_extension": ".py",
   "mimetype": "text/x-python",
   "name": "python",
   "nbconvert_exporter": "python",
   "pygments_lexer": "ipython3",
   "version": "3.9.1"
  }
 },
 "nbformat": 4,
 "nbformat_minor": 4
}
