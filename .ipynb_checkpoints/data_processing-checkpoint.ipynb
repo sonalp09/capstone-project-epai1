{
 "cells": [
  {
   "cell_type": "code",
   "execution_count": 2,
   "metadata": {},
   "outputs": [],
   "source": [
    "# Data processing: This module processes data based on the requirements. Basic data processing are:\n",
    "# 1. Extracting column from the data\n",
    "# 2. Checks for regular expression in email id. There should not be any regular expression in email id. \n",
    "# 3. Checks for name: Name should consist only alphabets and space, and no specific characters and numbers.\n",
    "# To be done: Score check: Only numbers\n",
    "# To be done: Score check: Only integer\n",
    "# To be done: Score check: Only positive numbers\n",
    "\n",
    "import csv\n",
    "from collections import namedtuple\n",
    "from functools import reduce\n",
    "import re\n",
    "\n",
    "def csv_to_column(filename, colname:'string', delimiter = ',') -> 'list':\n",
    "    '''\n",
    "    csv_to_column: Reads csv file and converts into a list based on column name.\n",
    "    Input: \n",
    "        filename: Name of the file to be read and processed \n",
    "        colname: column name\n",
    "        delimiter: file delimiter. Mostly \",\"\n",
    "    Output: \n",
    "        list containing only required column\n",
    "    '''\n",
    "    with open(filename) as f:\n",
    "        headers = next(csv.reader(f, delimiter=delimiter, skipinitialspace=True))\n",
    "        headers = [header.strip() for header in headers]\n",
    "        row_col_name = []\n",
    "        for row in csv.DictReader(f, fieldnames=headers, \n",
    "                                delimiter=delimiter, skipinitialspace=True):\n",
    "            row_col_value = row[colname].strip()\n",
    "            row_col_name.append(row_col_value)\n",
    "    return row_col_name\n",
    "            \n",
    "# Regex check\n",
    "def regex_check(email_id):\n",
    "    regex = '^[a-z0-9]+[\\._]?[a-z0-9]+[@]\\w+[.]\\w{2,3}$' \n",
    "    if re.search(regex, email_id):\n",
    "        return email_id\n",
    "    else:\n",
    "        return \"Invalid Email\"\n",
    "\n",
    "# check for valid names\n",
    "def check_valid_name(name):\n",
    "    if all(char.isalpha() or char.isspace() for char in name):\n",
    "        return name\n",
    "    else:\n",
    "        return \"invalid name\"\n",
    "    "
   ]
  }
 ],
 "metadata": {
  "kernelspec": {
   "display_name": "Python 3",
   "language": "python",
   "name": "python3"
  },
  "language_info": {
   "codemirror_mode": {
    "name": "ipython",
    "version": 3
   },
   "file_extension": ".py",
   "mimetype": "text/x-python",
   "name": "python",
   "nbconvert_exporter": "python",
   "pygments_lexer": "ipython3",
   "version": "3.9.1"
  }
 },
 "nbformat": 4,
 "nbformat_minor": 4
}
